{
 "cells": [
  {
   "cell_type": "code",
   "execution_count": 14,
   "metadata": {},
   "outputs": [],
   "source": [
    "import pandas as pd\n",
    "from sqlalchemy import create_engine\n",
    "from config import gkey\n"
   ]
  },
  {
   "cell_type": "code",
   "execution_count": 15,
   "metadata": {},
   "outputs": [],
   "source": [
    "IPPS=pd.read_csv(\"IPPS-all.csv\")\n",
    "IPPS=IPPS.loc[IPPS['Provider State'] == 'CA']\n",
    "IPPS['DRG Definition'] = IPPS['DRG Definition'].str[:3]\n",
    "IPPS=IPPS[IPPS[\"DRG Definition\"].isin([\"233\", \"234\", \"235\",\"236\"])]\n",
    "IPPS=IPPS[['DRG Definition',\n",
    "           'Provider Id', \n",
    "           'Provider State',\n",
    "           'Total Discharges',\n",
    "           'Average Covered Charges',\n",
    "           'Average Total Payments',\n",
    "           'Average Medicare Payments']].copy()\n",
    "IPPS=IPPS.rename(columns = {'DRG Definition':'drg',\n",
    "           'Provider Id':'mcrid', \n",
    "           'Provider State':'state',\n",
    "           'Total Discharges':'dc_case',\n",
    "           'Average Covered Charges':'avg_chg',\n",
    "           'Average Total Payments':'avg_tbc',\n",
    "           'Average Medicare Payments':'avg_mcr_chg'})"
   ]
  },
  {
   "cell_type": "code",
   "execution_count": 16,
   "metadata": {},
   "outputs": [],
   "source": [
    "Cover_CA= pd.read_csv('cover ca.csv')\n",
    "Cover_CA=Cover_CA[['Entity Name','Medicare Provider Number','OSHPD ID']].copy()\n",
    "Cover_CA=Cover_CA.dropna()\n",
    "Cover_CA['Medicare Provider Number'] = Cover_CA['Medicare Provider Number'].astype(int)\n",
    "Cover_CA['OSHPD ID'] = Cover_CA['OSHPD ID'].astype(int)\n",
    "Cover_CA=Cover_CA.rename(columns={'Entity Name':'hosp',\n",
    "                         'Medicare Provider Number':'mcrid',\n",
    "                         'OSHPD ID':'oshpdid'})"
   ]
  },
  {
   "cell_type": "code",
   "execution_count": 17,
   "metadata": {},
   "outputs": [],
   "source": [
    "OSHPD= pd.read_csv('OSHPD.csv',encoding = 'unicode_escape')\n",
    "OSHPD=OSHPD[['Year','Performance Measure','Hospital','OSHPD ID','# of Cases']].copy()\n",
    "OSHPD=OSHPD.loc[OSHPD['Year']=='2017']\n",
    "OSHPD.drop([5])\n",
    "OSHPD['OSHPD ID']=pd.to_numeric(OSHPD['OSHPD ID'], errors='coerce')\n",
    "OSHPD=OSHPD.rename(columns={'Year':'year',\n",
    "                            'Performance Measure':'pim',\n",
    "                            'Hospital':'hosp',\n",
    "                            'OSHPD ID':'oshpdid',\n",
    "                            '# of Cases':'num_of_cases'})"
   ]
  },
  {
   "cell_type": "code",
   "execution_count": 18,
   "metadata": {},
   "outputs": [
    {
     "data": {
      "text/plain": [
       "['ipps', 'cover_ca', 'oshpd']"
      ]
     },
     "execution_count": 18,
     "metadata": {},
     "output_type": "execute_result"
    }
   ],
   "source": [
    "engine = create_engine(\"postgresql://\"+gkey)\n",
    "conn = engine.connect()\n",
    "engine.table_names()"
   ]
  },
  {
   "cell_type": "code",
   "execution_count": 19,
   "metadata": {},
   "outputs": [],
   "source": [
    "IPPS.to_sql(name='ipps', con=engine, if_exists='replace', index=False)"
   ]
  },
  {
   "cell_type": "code",
   "execution_count": 20,
   "metadata": {},
   "outputs": [],
   "source": [
    "Cover_CA.to_sql(name='cover_ca', con=engine, if_exists='replace', index=False)"
   ]
  },
  {
   "cell_type": "code",
   "execution_count": 21,
   "metadata": {},
   "outputs": [],
   "source": [
    "OSHPD.to_sql(name='oshpd', con=engine, if_exists='replace', index=False)"
   ]
  },
  {
   "cell_type": "code",
   "execution_count": 22,
   "metadata": {},
   "outputs": [
    {
     "data": {
      "text/html": [
       "<div>\n",
       "<style scoped>\n",
       "    .dataframe tbody tr th:only-of-type {\n",
       "        vertical-align: middle;\n",
       "    }\n",
       "\n",
       "    .dataframe tbody tr th {\n",
       "        vertical-align: top;\n",
       "    }\n",
       "\n",
       "    .dataframe thead th {\n",
       "        text-align: right;\n",
       "    }\n",
       "</style>\n",
       "<table border=\"1\" class=\"dataframe\">\n",
       "  <thead>\n",
       "    <tr style=\"text-align: right;\">\n",
       "      <th></th>\n",
       "      <th>drg</th>\n",
       "      <th>mcrid</th>\n",
       "      <th>state</th>\n",
       "      <th>dc_case</th>\n",
       "      <th>avg_chg</th>\n",
       "      <th>avg_tbc</th>\n",
       "      <th>avg_mcr_chg</th>\n",
       "    </tr>\n",
       "  </thead>\n",
       "  <tbody>\n",
       "    <tr>\n",
       "      <td>0</td>\n",
       "      <td>233</td>\n",
       "      <td>50013</td>\n",
       "      <td>CA</td>\n",
       "      <td>16</td>\n",
       "      <td>594893.0000</td>\n",
       "      <td>68025.93750</td>\n",
       "      <td>66961.93750</td>\n",
       "    </tr>\n",
       "    <tr>\n",
       "      <td>1</td>\n",
       "      <td>234</td>\n",
       "      <td>50013</td>\n",
       "      <td>CA</td>\n",
       "      <td>12</td>\n",
       "      <td>455330.7500</td>\n",
       "      <td>44909.91667</td>\n",
       "      <td>44041.91667</td>\n",
       "    </tr>\n",
       "    <tr>\n",
       "      <td>2</td>\n",
       "      <td>236</td>\n",
       "      <td>50013</td>\n",
       "      <td>CA</td>\n",
       "      <td>13</td>\n",
       "      <td>487721.8462</td>\n",
       "      <td>42651.15385</td>\n",
       "      <td>41746.76923</td>\n",
       "    </tr>\n",
       "    <tr>\n",
       "      <td>3</td>\n",
       "      <td>233</td>\n",
       "      <td>50017</td>\n",
       "      <td>CA</td>\n",
       "      <td>15</td>\n",
       "      <td>659553.1333</td>\n",
       "      <td>86794.80000</td>\n",
       "      <td>85611.66667</td>\n",
       "    </tr>\n",
       "    <tr>\n",
       "      <td>4</td>\n",
       "      <td>234</td>\n",
       "      <td>50017</td>\n",
       "      <td>CA</td>\n",
       "      <td>29</td>\n",
       "      <td>428593.6552</td>\n",
       "      <td>47781.37931</td>\n",
       "      <td>46530.24138</td>\n",
       "    </tr>\n",
       "  </tbody>\n",
       "</table>\n",
       "</div>"
      ],
      "text/plain": [
       "   drg  mcrid state  dc_case      avg_chg      avg_tbc  avg_mcr_chg\n",
       "0  233  50013    CA       16  594893.0000  68025.93750  66961.93750\n",
       "1  234  50013    CA       12  455330.7500  44909.91667  44041.91667\n",
       "2  236  50013    CA       13  487721.8462  42651.15385  41746.76923\n",
       "3  233  50017    CA       15  659553.1333  86794.80000  85611.66667\n",
       "4  234  50017    CA       29  428593.6552  47781.37931  46530.24138"
      ]
     },
     "execution_count": 22,
     "metadata": {},
     "output_type": "execute_result"
    }
   ],
   "source": [
    "pd.read_sql_query('select * from ipps',con=engine).head()"
   ]
  },
  {
   "cell_type": "code",
   "execution_count": 23,
   "metadata": {},
   "outputs": [
    {
     "data": {
      "text/html": [
       "<div>\n",
       "<style scoped>\n",
       "    .dataframe tbody tr th:only-of-type {\n",
       "        vertical-align: middle;\n",
       "    }\n",
       "\n",
       "    .dataframe tbody tr th {\n",
       "        vertical-align: top;\n",
       "    }\n",
       "\n",
       "    .dataframe thead th {\n",
       "        text-align: right;\n",
       "    }\n",
       "</style>\n",
       "<table border=\"1\" class=\"dataframe\">\n",
       "  <thead>\n",
       "    <tr style=\"text-align: right;\">\n",
       "      <th></th>\n",
       "      <th>hosp</th>\n",
       "      <th>mcrid</th>\n",
       "      <th>oshpdid</th>\n",
       "    </tr>\n",
       "  </thead>\n",
       "  <tbody>\n",
       "    <tr>\n",
       "      <td>0</td>\n",
       "      <td>BANNER LASSEN MEDICAL CENTER</td>\n",
       "      <td>51320</td>\n",
       "      <td>106184008</td>\n",
       "    </tr>\n",
       "    <tr>\n",
       "      <td>1</td>\n",
       "      <td>Orchard Hospital</td>\n",
       "      <td>51311</td>\n",
       "      <td>106040802</td>\n",
       "    </tr>\n",
       "    <tr>\n",
       "      <td>2</td>\n",
       "      <td>Colusa Regional Medical Center</td>\n",
       "      <td>50434</td>\n",
       "      <td>106060870</td>\n",
       "    </tr>\n",
       "    <tr>\n",
       "      <td>3</td>\n",
       "      <td>EASTERN PLUMAS HOSPITAL-PORTOLA CAMPUS</td>\n",
       "      <td>51300</td>\n",
       "      <td>106320859</td>\n",
       "    </tr>\n",
       "    <tr>\n",
       "      <td>4</td>\n",
       "      <td>Fairchild Medical Center</td>\n",
       "      <td>51316</td>\n",
       "      <td>106474007</td>\n",
       "    </tr>\n",
       "  </tbody>\n",
       "</table>\n",
       "</div>"
      ],
      "text/plain": [
       "                                     hosp  mcrid    oshpdid\n",
       "0            BANNER LASSEN MEDICAL CENTER  51320  106184008\n",
       "1                        Orchard Hospital  51311  106040802\n",
       "2          Colusa Regional Medical Center  50434  106060870\n",
       "3  EASTERN PLUMAS HOSPITAL-PORTOLA CAMPUS  51300  106320859\n",
       "4                Fairchild Medical Center  51316  106474007"
      ]
     },
     "execution_count": 23,
     "metadata": {},
     "output_type": "execute_result"
    }
   ],
   "source": [
    "pd.read_sql_query('select * from cover_ca',con=engine).head()"
   ]
  },
  {
   "cell_type": "code",
   "execution_count": 24,
   "metadata": {},
   "outputs": [
    {
     "data": {
      "text/html": [
       "<div>\n",
       "<style scoped>\n",
       "    .dataframe tbody tr th:only-of-type {\n",
       "        vertical-align: middle;\n",
       "    }\n",
       "\n",
       "    .dataframe tbody tr th {\n",
       "        vertical-align: top;\n",
       "    }\n",
       "\n",
       "    .dataframe thead th {\n",
       "        text-align: right;\n",
       "    }\n",
       "</style>\n",
       "<table border=\"1\" class=\"dataframe\">\n",
       "  <thead>\n",
       "    <tr style=\"text-align: right;\">\n",
       "      <th></th>\n",
       "      <th>year</th>\n",
       "      <th>pim</th>\n",
       "      <th>hosp</th>\n",
       "      <th>oshpdid</th>\n",
       "      <th>num_of_cases</th>\n",
       "    </tr>\n",
       "  </thead>\n",
       "  <tbody>\n",
       "    <tr>\n",
       "      <td>0</td>\n",
       "      <td>2017</td>\n",
       "      <td>CABG Operative Mortality</td>\n",
       "      <td>STATEWIDE</td>\n",
       "      <td>NaN</td>\n",
       "      <td>13,049</td>\n",
       "    </tr>\n",
       "    <tr>\n",
       "      <td>1</td>\n",
       "      <td>2017</td>\n",
       "      <td>CABG Operative Mortality</td>\n",
       "      <td>Alta Bates Summit Medical Center</td>\n",
       "      <td>106010937.0</td>\n",
       "      <td>144</td>\n",
       "    </tr>\n",
       "    <tr>\n",
       "      <td>2</td>\n",
       "      <td>2017</td>\n",
       "      <td>CABG Operative Mortality</td>\n",
       "      <td>Valleycare Medical Center</td>\n",
       "      <td>106014050.0</td>\n",
       "      <td>34</td>\n",
       "    </tr>\n",
       "    <tr>\n",
       "      <td>3</td>\n",
       "      <td>2017</td>\n",
       "      <td>CABG Operative Mortality</td>\n",
       "      <td>Washington Hospital - Fremont</td>\n",
       "      <td>106010987.0</td>\n",
       "      <td>94</td>\n",
       "    </tr>\n",
       "    <tr>\n",
       "      <td>4</td>\n",
       "      <td>2017</td>\n",
       "      <td>CABG Operative Mortality</td>\n",
       "      <td>Enloe Medical Center - Esplanade</td>\n",
       "      <td>106040962.0</td>\n",
       "      <td>155</td>\n",
       "    </tr>\n",
       "  </tbody>\n",
       "</table>\n",
       "</div>"
      ],
      "text/plain": [
       "   year                       pim                              hosp  \\\n",
       "0  2017  CABG Operative Mortality                         STATEWIDE   \n",
       "1  2017  CABG Operative Mortality  Alta Bates Summit Medical Center   \n",
       "2  2017  CABG Operative Mortality         Valleycare Medical Center   \n",
       "3  2017  CABG Operative Mortality     Washington Hospital - Fremont   \n",
       "4  2017  CABG Operative Mortality  Enloe Medical Center - Esplanade   \n",
       "\n",
       "       oshpdid num_of_cases  \n",
       "0          NaN       13,049  \n",
       "1  106010937.0          144  \n",
       "2  106014050.0           34  \n",
       "3  106010987.0           94  \n",
       "4  106040962.0          155  "
      ]
     },
     "execution_count": 24,
     "metadata": {},
     "output_type": "execute_result"
    }
   ],
   "source": [
    "pd.read_sql_query('select * from oshpd',con=engine).head()"
   ]
  },
  {
   "cell_type": "code",
   "execution_count": null,
   "metadata": {},
   "outputs": [],
   "source": []
  },
  {
   "cell_type": "code",
   "execution_count": null,
   "metadata": {},
   "outputs": [],
   "source": []
  }
 ],
 "metadata": {
  "kernelspec": {
   "display_name": "Python 3",
   "language": "python",
   "name": "python3"
  },
  "language_info": {
   "codemirror_mode": {
    "name": "ipython",
    "version": 3
   },
   "file_extension": ".py",
   "mimetype": "text/x-python",
   "name": "python",
   "nbconvert_exporter": "python",
   "pygments_lexer": "ipython3",
   "version": "3.7.3"
  }
 },
 "nbformat": 4,
 "nbformat_minor": 4
}
